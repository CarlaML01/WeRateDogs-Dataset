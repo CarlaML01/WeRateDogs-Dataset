{
 "cells": [
  {
   "cell_type": "markdown",
   "metadata": {},
   "source": [
    "## WeRateDogs Twitter Analysis Report\n",
    "*By Carla Mota Leal*\n",
    "\n",
    "[WeRateDogs](https://twitter.com/dog_rates?s=20) is a Twitter account that posts and rates pictures of dogs, with a humorous comment about the dog. These ratings often have numerators that are greater than the denominators. In my analysis, I examined WeRateDogs's archive through August 1, 2017. Most of the necessary Twitter data was provided by Udacity. In addition, Udacity ran the images on WeRateDogs's account through a neural network to generate three predictions for each image. \n",
    "After wrangling the data, I came up with the following questions:\n",
    "\n",
    "> 1. What is WeRateDogs's top 5 most popular dog breeds?\n",
    "> 2. What is the most common dog name?\n",
    "> 3. What is the most frequent rating? \n",
    "\n",
    "### Question 1): What is WeRateDogs's top 5 most popular dog breeds?\n",
    "\n",
    "Based on the number of dog breeds that has been posted, we have made a bar chart of the breeds from top 1 to 5. Even though there were more than 300+ images that were not properly predicted (\"No correct prediction\"), we have still found out that Golden Retriever is the most popular breed on the \"We Rate Dog\" account.\n",
    "\n",
    "Also, as we can see on the table below and graph, the top 5 most popular dog breeds are: Golden retriever, Labrador, Pembroke, Chihuahua and Pug. \n",
    "\n",
    "| Breeds | Counts |\n",
    "| -------- | ------- |\n",
    "| No correct prediction | 308 |\n",
    "| Golden_retriever | 158 |\n",
    "| Labrador_retriever | 108 |\n",
    "| Pembroke | 95 |\n",
    "| Chihuahua | 91 |\n",
    "| Pug | 62 |\n",
    "\n",
    "![WeRateDogs's top 5 most popular dog breeds](/dog_breeds.png)\n",
    "\n",
    "### Question 2: What is the most common dog name?\n",
    "\n",
    "Most of the data (88.1% or 726 counts) possibly were not properly recorded (None). \n",
    "For female & male dogs: Lucy and Charlie are the most popular names. \n",
    "After None, 11 names can be place on the top 5 most common names, since their qualification matches (no difference of number of name, or only 1 name difference). For example, \n",
    "the names Lucy and Charles shares the 1st position since both have 11.2% of popularity name. \n",
    "Moreover there are more names that took the same hanking position. \n",
    "\n",
    "\n",
    "![Most common dog name](/dog_names.png)\n",
    "\n",
    "### Question 3: What is the most frequent rating? \n",
    "  \n",
    "As we know WeRateDog is famous for their unique rating system that numerator is bigger than denominator, with that in min we were able to observe that the most popular ratings are 10/10, 12/10, and 11/10.\n",
    "Overall, can assume that WeRateDogs tend to give high ratings to most of the dogs they post.\n",
    "  \n",
    "![Most Frequent Ratings](/freq_rating.png)\n",
    "\n",
    "\n"
   ]
  },
  {
   "cell_type": "markdown",
   "metadata": {},
   "source": [
    "![The end](/the_end.png)"
   ]
  },
  {
   "cell_type": "code",
   "execution_count": null,
   "metadata": {},
   "outputs": [],
   "source": []
  }
 ],
 "metadata": {
  "kernelspec": {
   "display_name": "Python 3",
   "language": "python",
   "name": "python3"
  },
  "language_info": {
   "codemirror_mode": {
    "name": "ipython",
    "version": 3
   },
   "file_extension": ".py",
   "mimetype": "text/x-python",
   "name": "python",
   "nbconvert_exporter": "python",
   "pygments_lexer": "ipython3",
   "version": "3.6.3"
  }
 },
 "nbformat": 4,
 "nbformat_minor": 4
}
